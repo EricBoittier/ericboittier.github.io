{
 "cells": [
  {
   "cell_type": "markdown",
   "id": "3caac2de-6fc3-4d65-847b-6e3ee2533390",
   "metadata": {},
   "source": [
    "# Test Notebook Blog Post\n"
   ]
  },
  {
   "cell_type": "code",
   "execution_count": 11,
   "id": "4c2b980b-bb41-4e04-aabb-c4a184939b9d",
   "metadata": {},
   "outputs": [],
   "source": [
    "import matplotlib.pyplot as plt"
   ]
  },
  {
   "cell_type": "code",
   "execution_count": 12,
   "id": "ad6422de-055e-4efe-9ab3-a94ecd8fa0f2",
   "metadata": {},
   "outputs": [],
   "source": [
    "import numpy as np"
   ]
  },
  {
   "cell_type": "markdown",
   "id": "12f95197-0b01-430e-9d61-bea3ea1e4d02",
   "metadata": {},
   "source": [
    "Let's do something a bit random!"
   ]
  },
  {
   "cell_type": "code",
   "execution_count": 15,
   "id": "2e66dca3-65a9-410f-bb2c-04b273014108",
   "metadata": {},
   "outputs": [],
   "source": [
    "X = np.random.rand(100).reshape(10,10)"
   ]
  },
  {
   "cell_type": "code",
   "execution_count": 16,
   "id": "7091843a-3a68-4545-9d01-43a01ccbdc23",
   "metadata": {},
   "outputs": [
    {
     "data": {
      "text/plain": [
       "<matplotlib.image.AxesImage at 0x1248bd4b0>"
      ]
     },
     "execution_count": 16,
     "metadata": {},
     "output_type": "execute_result"
    },
    {
     "data": {
      "image/png": "[encoded data removed]",
      "text/plain": [
       "<Figure size 640x480 with 1 Axes>"
      ]
     },
     "metadata": {},
     "output_type": "display_data"
    }
   ],
   "source": [
    "plt.imshow(X)"
   ]
  },
  {
   "cell_type": "code",
   "execution_count": null,
   "id": "e189d5b6-0465-42e2-8ea0-ff031d218f9d",
   "metadata": {},
   "outputs": [],
   "source": []
  },
  {
   "cell_type": "code",
   "execution_count": null,
   "id": "1fc36c89-4fdd-4c96-af3d-cf80b49c7bf7",
   "metadata": {},
   "outputs": [],
   "source": []
  }
 ],
 "metadata": {
  "kernelspec": {
   "display_name": "Python 3 (ipykernel)",
   "language": "python",
   "name": "python3"
  },
  "language_info": {
   "codemirror_mode": {
    "name": "ipython",
    "version": 3
   },
   "file_extension": ".py",
   "mimetype": "text/x-python",
   "name": "python",
   "nbconvert_exporter": "python",
   "pygments_lexer": "ipython3",
   "version": "3.10.12"
  }
 },
 "nbformat": 4,
 "nbformat_minor": 5
}
